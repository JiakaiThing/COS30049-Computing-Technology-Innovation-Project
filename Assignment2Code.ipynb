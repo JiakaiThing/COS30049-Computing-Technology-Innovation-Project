{
 "cells": [
  {
   "cell_type": "code",
   "execution_count": 3,
   "metadata": {},
   "outputs": [],
   "source": [
    "import numpy as np\n",
    "import pandas as pd\n",
    "\n",
    "from tensorflow.keras.preprocessing.text import Tokenizer\n",
    "from tensorflow.keras.preprocessing.sequence import pad_sequences\n",
    "from sklearn.preprocessing import StandardScaler\n",
    "from sklearn.model_selection import train_test_split\n",
    "\n",
    "import tensorflow as tf\n",
    "\n",
    "from sklearn.metrics import r2_score"
   ]
  },
  {
   "cell_type": "code",
   "execution_count": 5,
   "metadata": {},
   "outputs": [
    {
     "name": "stdout",
     "output_type": "stream",
     "text": [
      "           Suburb             Address  Rooms Type      Price Method  \\\n",
      "0      Abbotsford       68 Studley St      2    h        NaN     SS   \n",
      "1      Abbotsford        85 Turner St      2    h  1480000.0      S   \n",
      "2      Abbotsford     25 Bloomburg St      2    h  1035000.0      S   \n",
      "3      Abbotsford  18/659 Victoria St      3    u        NaN     VB   \n",
      "4      Abbotsford        5 Charles St      3    h  1465000.0     SP   \n",
      "...           ...                 ...    ...  ...        ...    ...   \n",
      "34852  Yarraville         13 Burns St      4    h  1480000.0     PI   \n",
      "34853  Yarraville       29A Murray St      2    h   888000.0     SP   \n",
      "34854  Yarraville      147A Severn St      2    t   705000.0      S   \n",
      "34855  Yarraville    12/37 Stephen St      3    h  1140000.0     SP   \n",
      "34856  Yarraville    3 Tarrengower St      2    h  1020000.0     PI   \n",
      "\n",
      "             SellerG        Date  Distance  Postcode  ...  Bathroom  Car  \\\n",
      "0             Jellis   3/09/2016       2.5    3067.0  ...       1.0  1.0   \n",
      "1             Biggin   3/12/2016       2.5    3067.0  ...       1.0  1.0   \n",
      "2             Biggin   4/02/2016       2.5    3067.0  ...       1.0  0.0   \n",
      "3             Rounds   4/02/2016       2.5    3067.0  ...       2.0  1.0   \n",
      "4             Biggin   4/03/2017       2.5    3067.0  ...       2.0  0.0   \n",
      "...              ...         ...       ...       ...  ...       ...  ...   \n",
      "34852            Jas  24/02/2018       6.3    3013.0  ...       1.0  3.0   \n",
      "34853        Sweeney  24/02/2018       6.3    3013.0  ...       2.0  1.0   \n",
      "34854            Jas  24/02/2018       6.3    3013.0  ...       1.0  2.0   \n",
      "34855  hockingstuart  24/02/2018       6.3    3013.0  ...       NaN  NaN   \n",
      "34856             RW  24/02/2018       6.3    3013.0  ...       1.0  0.0   \n",
      "\n",
      "       Landsize  BuildingArea  YearBuilt               CouncilArea Lattitude  \\\n",
      "0         126.0           NaN        NaN        Yarra City Council -37.80140   \n",
      "1         202.0           NaN        NaN        Yarra City Council -37.79960   \n",
      "2         156.0          79.0     1900.0        Yarra City Council -37.80790   \n",
      "3           0.0           NaN        NaN        Yarra City Council -37.81140   \n",
      "4         134.0         150.0     1900.0        Yarra City Council -37.80930   \n",
      "...         ...           ...        ...                       ...       ...   \n",
      "34852     593.0           NaN        NaN  Maribyrnong City Council -37.81053   \n",
      "34853      98.0         104.0     2018.0  Maribyrnong City Council -37.81551   \n",
      "34854     220.0         120.0     2000.0  Maribyrnong City Council -37.82286   \n",
      "34855       NaN           NaN        NaN  Maribyrnong City Council       NaN   \n",
      "34856     250.0         103.0     1930.0  Maribyrnong City Council -37.81810   \n",
      "\n",
      "       Longtitude             Regionname Propertycount  \n",
      "0       144.99580  Northern Metropolitan        4019.0  \n",
      "1       144.99840  Northern Metropolitan        4019.0  \n",
      "2       144.99340  Northern Metropolitan        4019.0  \n",
      "3       145.01160  Northern Metropolitan        4019.0  \n",
      "4       144.99440  Northern Metropolitan        4019.0  \n",
      "...           ...                    ...           ...  \n",
      "34852   144.88467   Western Metropolitan        6543.0  \n",
      "34853   144.88826   Western Metropolitan        6543.0  \n",
      "34854   144.87856   Western Metropolitan        6543.0  \n",
      "34855         NaN   Western Metropolitan        6543.0  \n",
      "34856   144.89351   Western Metropolitan        6543.0  \n",
      "\n",
      "[34857 rows x 21 columns]\n"
     ]
    }
   ],
   "source": [
    "data = pd.read_csv('/Users/jiakaithing/Desktop/COS30049_Computing_Technology_Innovation_Project/assignment2/Melbourne_housing_FULL.csv')\n",
    "print(data)"
   ]
  }
 ],
 "metadata": {
  "kernelspec": {
   "display_name": "Python 3",
   "language": "python",
   "name": "python3"
  },
  "language_info": {
   "codemirror_mode": {
    "name": "ipython",
    "version": 3
   },
   "file_extension": ".py",
   "mimetype": "text/x-python",
   "name": "python",
   "nbconvert_exporter": "python",
   "pygments_lexer": "ipython3",
   "version": "3.12.5"
  }
 },
 "nbformat": 4,
 "nbformat_minor": 2
}
